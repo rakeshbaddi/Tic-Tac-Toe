from IPython.display import clear_output


def display_board(board):
    clear_output()
    
    print(board[7]+'|'+board[8]+'|'+board[9])
    print(board[4]+'|'+board[5]+'|'+board[6])
    print(board[1]+'|'+board[2]+'|'+board[3])


def player_input():  
    marker = ''
    while marker != 'X' and marker !='O':
        marker = input('Player 1, Choose X or O: ').upper()
    if marker == 'X':
        return ('X', 'O')
    else:
        return ('O', 'X')


def place_marker(board, marker, position): 
    board[position]=marker
    

def win_check(board, marker):   
    return ((board[7]==board[8]==board[9]==marker) or (board[4]==board[5]==board[6]==marker) or 
            (board[1]==board[2]==board[3]==marker) or (board[1]==board[4]==board[7]==marker) or
            (board[2]==board[5]==board[8]==marker) or (board[3]==board[6]==board[9]==marker) or
            (board[1]==board[5]==board[9]==marker) or (board[3]==board[5]==board[7]==marker))

    
    
import random
def choose_first():
    num = random.randint(1,2)

    if num == 1:
        return 'Player 1'
    else:
        return 'Player 2'
    

def space_check(board, position):
    return board[position] == ' '


def full_board_check(board): 
    for x in range(1,10):
        if space_check(board, x):
            return False
    else:
        return True

    
def player_choice(board):
    position = 0
    
    while position not in [1,2,3,4,5,6,7,8,9] or not space_check(board, position):
        position = int(input('Choose your next position: (1-9) '))
        
    return position
    

def replay():
    ask = input('Do you want to play again? (Y/N): ').upper()
    
    if ask == 'Y':
        return True
    else:
        return False

    
    
#---------------------------------------------------------------
    
  

print('Welcome to Tic Tac Toe\n')

while True:
    
    theboard = [' '] * 10
    player1, player2 = player_input()
    turn = choose_first()
    
    print(turn+' will go first!')
    
    playgame = input('Are you ready to play? Enter Y/N: ')
    
    if playgame=='Y':
        gameon = True
    else:
        gameon = False
        
    while gameon:
        if turn == 'Player 1':
            display_board(theboard)
            position = player_choice(theboard)
            place_marker(theboard, player1, position)
            
            if win_check(theboard, player1):
                display_board(theboard)
                print('Player 1 has WON! Congratulations!')
                game_on = False
            else:
                if full_board_check(theboard):
                    print('TIE!')
                    game_on = False
                else:
                    turn = 'Player 2'
                        
        else:
            display_board(theboard)
            position = player_choice(theboard)
            place_marker(theboard, player2, position)
            
            if win_check(theboard, player2):
                display_board(theboard)
                print('Player 2 has WON! Congratulations!')
                game_on = False
            else:
                if full_board_check(theboard):
                    print('TIE!')
                    game_on = False
                else:
                    turn = 'Player 1'
    
    if not replay():
        break;
